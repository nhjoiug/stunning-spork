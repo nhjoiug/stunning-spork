{
 "cells": [
  {
   "cell_type": "code",
   "execution_count": 1,
   "metadata": {},
   "outputs": [],
   "source": [
    "import numpy as np"
   ]
  },
  {
   "cell_type": "markdown",
   "metadata": {},
   "source": [
    "First, create a function.  As an example, use the equation for total energy. (PE + KE = TE)\n",
    "$TE=\\frac{1}{2}mv^2+mgh$\n",
    "$\\alpha \\beta \\gamma \\delta \\epsilon$"
   ]
  },
  {
   "cell_type": "code",
   "execution_count": 2,
   "metadata": {},
   "outputs": [],
   "source": [
    "def totalE(m,v,h):\n",
    "    TE = .5*m*v**2+m*9.8*h\n",
    "    return TE\n"
   ]
  },
  {
   "cell_type": "code",
   "execution_count": 4,
   "metadata": {},
   "outputs": [
    {
     "name": "stdout",
     "output_type": "stream",
     "text": [
      "Total energy =  242.54999999999998 Joules\n"
     ]
    }
   ],
   "source": [
    "mass = 1.2\n",
    "vel = 3.5\n",
    "height = 20\n",
    "\n",
    "total_energy = totalE(mass,vel,height)\n",
    "print (\"Total energy = \",total_energy,\"Joules\")"
   ]
  },
  {
   "cell_type": "code",
   "execution_count": 8,
   "metadata": {},
   "outputs": [
    {
     "name": "stdout",
     "output_type": "stream",
     "text": [
      "[25  8 50 17  7]\n",
      "Total energy array =  [ 487.   165.8 1494.   668.4  433. ] Joules\n"
     ]
    }
   ],
   "source": [
    "mass_array = np.array([1,2,3,4,5])\n",
    "vel_array = np.array([22,3,4,1,6])\n",
    "height_array = np.array([20,3,45,12,2])\n",
    "height_corr = height_array+5\n",
    "print (height_corr)\n",
    "\n",
    "total_energy_array = totalE(mass_array,vel_array,height_corr)\n",
    "print (\"Total energy array = \",total_energy_array,\"Joules\")"
   ]
  },
  {
   "cell_type": "code",
   "execution_count": null,
   "metadata": {},
   "outputs": [],
   "source": []
  }
 ],
 "metadata": {
  "kernelspec": {
   "display_name": "Python 3",
   "language": "python",
   "name": "python3"
  },
  "language_info": {
   "codemirror_mode": {
    "name": "ipython",
    "version": 3
   },
   "file_extension": ".py",
   "mimetype": "text/x-python",
   "name": "python",
   "nbconvert_exporter": "python",
   "pygments_lexer": "ipython3",
   "version": "3.7.3"
  }
 },
 "nbformat": 4,
 "nbformat_minor": 2
}
