{
 "cells": [
  {
   "cell_type": "code",
   "execution_count": 10,
   "metadata": {},
   "outputs": [
    {
     "name": "stdout",
     "output_type": "stream",
     "text": [
      "Alpha for Cu is:  1.907102138108298e-05 1/degC plus or minus  2.2493485141919765e-07 1/degC.\n",
      "Alpha for Al is:  2.5896660512045128e-05 1/degC plus or minus  2.2820788935099655e-07 1/degC.\n"
     ]
    }
   ],
   "source": [
    "import numpy as np\n",
    "\n",
    "def rule3(dA,dB):\n",
    "    dQ = np.sqrt(dA**2+dB**2)\n",
    "    return dQ\n",
    "def rule4(dA,A,m,dB,B,n,dC,C,p,Q):\n",
    "    dQ = Q*np.sqrt(((m*dA/A)**2)+((n*dB/B)**2)+((p*dC/C)**2))\n",
    "    return dQ\n",
    "TiC = 21.88\n",
    "TfC = 85.19\n",
    "errTiC = .02\n",
    "errTfC = .02\n",
    "DTC = TfC-TiC\n",
    "errTC = rule3(errTiC,errTfC)\n",
    "#alpha = deltaL/(L*deltaT)\n",
    "DLC = .00085\n",
    "LC = .704\n",
    "errDLC = .00001\n",
    "errLC = .0005\n",
    "alphaC = DLC/(LC*DTC)\n",
    "#print (alpha) test\n",
    "errAlphaC = rule4(errLC,LC,1,errDLC,DLC,1,errTC,DTC,1,alphaC)\n",
    "#print (errAlpha) second test\n",
    "print (\"Alpha for Cu is: \",alphaC,\"1/degC plus or minus \",errAlphaC,\"1/degC.\")\n",
    "\n",
    "TiA = 24.98\n",
    "TfA = 87.51\n",
    "errTiA = .02\n",
    "errTfA = .02\n",
    "DTA = TfA-TiA\n",
    "errTA = rule3(errTiA,errTfA)\n",
    "#alpha = deltaL/(L*deltaT)\n",
    "DLA = .00114\n",
    "LA = .704\n",
    "errDLA = .00001\n",
    "errLA = .0005\n",
    "alphaA = DLA/(LA*DTA)\n",
    "#print (alpha) test\n",
    "errAlphaA = rule4(errLA,LA,1,errDLA,DLA,1,errTA,DTA,1,alphaA)\n",
    "#print (errAlpha) second test\n",
    "print (\"Alpha for Al is: \",alphaA,\"1/degC plus or minus \",errAlphaA,\"1/degC.\")"
   ]
  },
  {
   "cell_type": "code",
   "execution_count": null,
   "metadata": {},
   "outputs": [],
   "source": []
  }
 ],
 "metadata": {
  "kernelspec": {
   "display_name": "Python 3",
   "language": "python",
   "name": "python3"
  },
  "language_info": {
   "codemirror_mode": {
    "name": "ipython",
    "version": 3
   },
   "file_extension": ".py",
   "mimetype": "text/x-python",
   "name": "python",
   "nbconvert_exporter": "python",
   "pygments_lexer": "ipython3",
   "version": "3.7.3"
  }
 },
 "nbformat": 4,
 "nbformat_minor": 2
}
