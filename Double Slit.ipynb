{
 "cells": [
  {
   "cell_type": "code",
   "execution_count": 19,
   "metadata": {},
   "outputs": [
    {
     "data": {
      "image/png": "[encoded data removed]",
      "text/plain": [
       "<Figure size 432x288 with 1 Axes>"
      ]
     },
     "metadata": {
      "needs_background": "light"
     },
     "output_type": "display_data"
    },
    {
     "name": "stdout",
     "output_type": "stream",
     "text": [
      "0.006266729932100227\n",
      "6.03169093876924e-07\n",
      "1.5079335069729906e-08\n"
     ]
    },
    {
     "data": {
      "image/png": "[encoded data removed]",
      "text/plain": [
       "<Figure size 432x288 with 1 Axes>"
      ]
     },
     "metadata": {
      "needs_background": "light"
     },
     "output_type": "display_data"
    },
    {
     "name": "stdout",
     "output_type": "stream",
     "text": [
      "0.0064409985373773525\n",
      "6.480920596422856e-07\n",
      "5.184781649687752e-09\n"
     ]
    }
   ],
   "source": [
    "import numpy as np\n",
    "import matplotlib.pyplot as plt\n",
    "\n",
    "#tan(theta)= (ysubm)/l\n",
    "#dsin(theta)=mlambda\n",
    "\n",
    "#asin(theta)=plambda\n",
    "#tan(theta)= (ysubp)/l\n",
    "def err(x, dy):\n",
    "    err = (sum(1/dy**2))*(sum(x**2/dy**2))-(sum(x/dy**2))**2\n",
    "    return err\n",
    "def rule4(dA,A,m,dB,B,n,dC,C,p,Q):\n",
    "    dQ = Q*np.sqrt(((m*dA/A)**2)+((n*dB/B)**2)+((p*dC/C)**2))\n",
    "    return dQ\n",
    "#diffraction\n",
    "L=6\n",
    "dl=.02\n",
    "a=.00004\n",
    "da=.000001\n",
    "p=np.array([-3,-2,-1,1,2,3])\n",
    "dp=np.array([.1,.1,.1,.1,.1,.1])\n",
    "yp=np.array([-.268,-.18,-.09,.09,.18,.277])#,-9,-18,-26.8\n",
    "dyp=np.array([.0005,.0005,.0005,.0005,.0005,.0005])\n",
    "theta=np.arctan(yp/L)\n",
    "sintheta=np.sin(theta)\n",
    "\n",
    "x=sintheta\n",
    "y=p\n",
    "dy=dp\n",
    "\n",
    "b,m=np.polynomial.polynomial.polyfit(x,y,1,w=dy)\n",
    "fit = b+m*x\n",
    "error=err(x, dyp)\n",
    "dm = np.sqrt(1/error*sum(1/dyp**2))\n",
    "\n",
    "plt.scatter(sintheta, p, color='blue', marker='o')\n",
    "plt.plot(sintheta, fit, color='purple', linestyle='--')\n",
    "plt.annotate('Slope (unitless) = {value:.{digits}E}'.format(value=m, digits=2),\n",
    "             (0.05, 0.9), xycoords='axes fraction')\n",
    "plt.show()\n",
    "\n",
    "wvlen=a/m\n",
    "print(dm)\n",
    "print(wvlen)\n",
    "dwv=rule4(dm, m, 1, da, a, 1, 0, 1, 1, wvlen)\n",
    "print(dwv)\n",
    "\n",
    "\n",
    "d=.000125\n",
    "dd=.000001\n",
    "ml=np.array([-5,-4,-3,-2,-1,1,2,3,4,5,6,7,8])\n",
    "dml=np.array([.1,.1,.1,.1,.1,.1,.1,.1,.1,.1,.1,.1,.1])\n",
    "ym=np.array([-.177,-.147,-.09,-.059,-.03,.028,.057,.087,.118,.146,.172,.210,.233])\n",
    "dym=np.array([.0005,.0005,.0005,.0005,.0005,.0005,.0005,.0005,.0005,.0005,.0005,.0005,.0005])\n",
    "theta=np.arctan(ym/L)\n",
    "sinthetam=np.sin(theta)\n",
    "\n",
    "x=sinthetam\n",
    "y=ml\n",
    "dy=dml\n",
    "\n",
    "b,m=np.polynomial.polynomial.polyfit(x,y,1,w=dy)\n",
    "fit = b+m*x\n",
    "error=err(x, dym)\n",
    "dm = np.sqrt(1/error*sum(1/dym**2))\n",
    "\n",
    "plt.scatter(sinthetam, ml, color='blue', marker='o')\n",
    "plt.plot(sinthetam, fit, color='purple', linestyle='--')\n",
    "plt.annotate('Slope (unitless) = {value:.{digits}E}'.format(value=m, digits=2),\n",
    "             (0.05, 0.9), xycoords='axes fraction')\n",
    "plt.show()\n",
    "\n",
    "wvlen=d/m\n",
    "print(dm)\n",
    "\n",
    "print(wvlen)\n",
    "dwv=rule4(dm, m, 1, dd, d, 1, 0, 1, 1, wvlen)\n",
    "print(dwv)"
   ]
  },
  {
   "cell_type": "code",
   "execution_count": null,
   "metadata": {},
   "outputs": [],
   "source": []
  },
  {
   "cell_type": "code",
   "execution_count": null,
   "metadata": {},
   "outputs": [],
   "source": []
  }
 ],
 "metadata": {
  "kernelspec": {
   "display_name": "Python 3",
   "language": "python",
   "name": "python3"
  },
  "language_info": {
   "codemirror_mode": {
    "name": "ipython",
    "version": 3
   },
   "file_extension": ".py",
   "mimetype": "text/x-python",
   "name": "python",
   "nbconvert_exporter": "python",
   "pygments_lexer": "ipython3",
   "version": "3.7.3"
  }
 },
 "nbformat": 4,
 "nbformat_minor": 2
}
