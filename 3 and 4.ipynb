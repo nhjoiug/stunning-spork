{
 "cells": [
  {
   "cell_type": "code",
   "execution_count": 11,
   "metadata": {},
   "outputs": [],
   "source": [
    "import numpy as np\n",
    "\n",
    "def rule3(dA,dB):\n",
    "    dQ = np.sqrt(dA**2+dB**2)\n",
    "    return dQ"
   ]
  },
  {
   "cell_type": "code",
   "execution_count": null,
   "metadata": {},
   "outputs": [],
   "source": []
  },
  {
   "cell_type": "code",
   "execution_count": 15,
   "metadata": {},
   "outputs": [],
   "source": [
    "def rule4(dA,A,m,dB,B,n,dC,C,p,Q):\n",
    "    dQ = Q*np.sqrt(((m*dA/A)**2)+((n*dB/B)**2)+((p*dC/C)**2))\n",
    "    return dQ"
   ]
  },
  {
   "cell_type": "code",
   "execution_count": 19,
   "metadata": {},
   "outputs": [
    {
     "name": "stdout",
     "output_type": "stream",
     "text": [
      "Alpha is:  1.7228309558266145e-05 1/degC plus or minus  1.5962962826045274e-07 1/degC.\n"
     ]
    }
   ],
   "source": [
    "Ti = 23.4\n",
    "Tf = 92.5\n",
    "errTi = .3\n",
    "errTf = .1\n",
    "DT = Tf-Ti\n",
    "errT = rule3(errTi,errTf)\n",
    "#alpha = deltaL/(L*deltaT)\n",
    "DL = .00125\n",
    "L = 1.05\n",
    "errDL = .00001\n",
    "errL = .001\n",
    "alpha = DL/(L*DT)\n",
    "#print (alpha) test\n",
    "errAlpha = rule4(errL,L,1,errDL,DL,1,errT,DT,1,alpha)\n",
    "#print (errAlpha) second test\n",
    "print (\"Alpha is: \",alpha,\"1/degC plus or minus \",errAlpha,\"1/degC.\")"
   ]
  },
  {
   "cell_type": "code",
   "execution_count": null,
   "metadata": {},
   "outputs": [],
   "source": []
  }
 ],
 "metadata": {
  "kernelspec": {
   "display_name": "Python 3",
   "language": "python",
   "name": "python3"
  },
  "language_info": {
   "codemirror_mode": {
    "name": "ipython",
    "version": 3
   },
   "file_extension": ".py",
   "mimetype": "text/x-python",
   "name": "python",
   "nbconvert_exporter": "python",
   "pygments_lexer": "ipython3",
   "version": "3.7.3"
  }
 },
 "nbformat": 4,
 "nbformat_minor": 2
}
